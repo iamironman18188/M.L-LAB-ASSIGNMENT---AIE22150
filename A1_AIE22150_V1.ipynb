{
 "cells": [
  {
   "cell_type": "markdown",
   "metadata": {},
   "source": [
    "QUESTION-1"
   ]
  },
  {
   "cell_type": "code",
   "execution_count": 4,
   "metadata": {},
   "outputs": [
    {
     "name": "stdout",
     "output_type": "stream",
     "text": [
      " No of vowels : 2\n",
      " No of Consonants : 2\n"
     ]
    }
   ],
   "source": [
    "def count_vowels_and_consonants(input_string):\n",
    "    vowels = \"aeiouAEIOU\"\n",
    "    consonants_count = 0\n",
    "    vowels_count = 0\n",
    "\n",
    "    for char in input_string:\n",
    "        if char.isalpha():\n",
    "            if char in vowels:\n",
    "                vowels_count += 1\n",
    "            else:\n",
    "                consonants_count += 1\n",
    "\n",
    "    return vowels_count, consonants_count\n",
    "\n",
    "def main():\n",
    "    #example usage \n",
    "    user_input = input(\" Enter a String : \")\n",
    "    #call the function to get counts \n",
    "    vowels_count, consonants_count = count_vowels_and_consonants(user_input)\n",
    "    # Print the results\n",
    "    print(f\" No of vowels : {vowels_count}\")\n",
    "    print(f\" No of Consonants : {consonants_count}\")\n",
    "\n",
    "#to run the main function \n",
    "if __name__ == \"__main__\":\n",
    "    main()\n"
   ]
  },
  {
   "cell_type": "markdown",
   "metadata": {},
   "source": [
    "QUESTION-2"
   ]
  },
  {
   "cell_type": "code",
   "execution_count": 5,
   "metadata": {},
   "outputs": [
    {
     "name": "stdout",
     "output_type": "stream",
     "text": [
      "enter the elements in a  2x2 matrix:\n",
      "enter the elements in a  2x2 matrix:\n",
      "\n",
      "Matrix A:\n",
      "[1.0, 2.0]\n",
      "[3.0, 4.0]\n",
      "\n",
      "Matrix B:\n",
      "[4.0, 8.0]\n",
      "[2.0, 6.0]\n",
      "\n",
      "Matrix AB (Product):\n",
      "[8.0, 20.0]\n",
      "[20.0, 48.0]\n"
     ]
    }
   ],
   "source": [
    "def input_matrix(rows, columns):\n",
    "    matrix = []\n",
    "    print(f\"enter the elements in a  {rows}x{columns} matrix:\")\n",
    "    for i in range(rows):\n",
    "        row = []\n",
    "        for j in range(columns):\n",
    "            element = float(input(f\" enter the element position ({i+1}, {j+1}): \"))\n",
    "            row.append(element)\n",
    "        matrix.append(row)\n",
    "    return matrix\n",
    "\n",
    "def matrix_multiply(A, B):\n",
    "    #check the matrices if multipliable or not \n",
    "    if len(A[0]) != len(B):\n",
    "        return \"Error: Matrices are not multipliable\"\n",
    "\n",
    "    #now intialize it with zeroes\n",
    "    result = [[0 for _ in range(len(B[0]))] for _ in range(len(A))]\n",
    "\n",
    "    #start matrix multiplication \n",
    "    for i in range(len(A)):\n",
    "        for j in range(len(B[0])):\n",
    "            for k in range(len(B)):\n",
    "                result[i][j] += A[i][k] * B[k][j]\n",
    "\n",
    "    return result\n",
    "\n",
    "def display_matrix(matrix, matrix_name):\n",
    "    print(f\"\\nMatrix {matrix_name}:\")\n",
    "    for row in matrix:\n",
    "        print(row)\n",
    "\n",
    "#take user input of matrix A\n",
    "rows_A = int(input(\"Enter the number of rows for matrix A: \"))\n",
    "columns_A = int(input(\"Enter the number of columns for matrix A: \"))\n",
    "matrix_A = input_matrix(rows_A, columns_A)\n",
    "\n",
    "#take user input of matrix B\n",
    "rows_B = int(input(\"Enter the number of rows for matrix B: \"))\n",
    "columns_B = int(input(\"Enter the number of columns for matrix B: \"))\n",
    "matrix_B = input_matrix(rows_B, columns_B)\n",
    "\n",
    "#matrix multiplication\n",
    "result = matrix_multiply(matrix_A, matrix_B)\n",
    "\n",
    "#display of result\n",
    "if isinstance(result, str):\n",
    "    print(result)\n",
    "else:\n",
    "    display_matrix(matrix_A, \"A\")\n",
    "    display_matrix(matrix_B, \"B\")\n",
    "    display_matrix(result, \"AB (Product)\")\n"
   ]
  },
  {
   "cell_type": "markdown",
   "metadata": {},
   "source": [
    "QUESTION-3"
   ]
  },
  {
   "cell_type": "code",
   "execution_count": 6,
   "metadata": {},
   "outputs": [
    {
     "name": "stdout",
     "output_type": "stream",
     "text": [
      " number of common elemnts : 2\n"
     ]
    }
   ],
   "source": [
    "def common_elements_count(list1, list2):\n",
    "    set1 = set(list1)\n",
    "    set2 = set(list2)\n",
    "    common_elements = set1.intersection(set2)\n",
    "    return len(common_elements)\n",
    "\n",
    "#ask user input for lists\n",
    "list1 = input(\" enter the elements in the list1 seperated by space \").split()\n",
    "list2 = input(\" enter the elements in the list2 seperated by space \").split()\n",
    "\n",
    "#convert the input to integer lists \n",
    "list1 = [int(x) for x in list1]\n",
    "list2 = [int(x) for x in list2]\n",
    "\n",
    "#display the result after calculation\n",
    "result = common_elements_count(list1, list2)\n",
    "print(f\" number of common elemnts : {result}\")\n"
   ]
  },
  {
   "cell_type": "markdown",
   "metadata": {},
   "source": [
    "QUESTION-4"
   ]
  },
  {
   "cell_type": "code",
   "execution_count": 9,
   "metadata": {},
   "outputs": [
    {
     "name": "stdout",
     "output_type": "stream",
     "text": [
      " enter the elements in matrix \n",
      " Original  Matrix:\n",
      "[8, 0]\n",
      "[4, 0]\n",
      " Transposed  Matrix:\n",
      "[8, 4]\n",
      "[0, 0]\n"
     ]
    }
   ],
   "source": [
    "def transpose_matrix(matrix):\n",
    "    #get the rows and columns \n",
    "    rows = len(matrix)\n",
    "    columns = len(matrix[0])\n",
    "\n",
    "    #for transpose create an empty matrix \n",
    "    transpose_result = [[0] * rows for _ in range(columns)]\n",
    "\n",
    "    #now settle the transpose matrix\n",
    "    for i in range(rows):\n",
    "        for j in range(columns):\n",
    "            transpose_result[j][i] = matrix[i][j]\n",
    "\n",
    "    return transpose_result\n",
    "\n",
    "def get_matrix_input():\n",
    "    rows = int(input(\" enter the no of rows \"))\n",
    "    columns = int(input(\" enter the no of columns \"))\n",
    "\n",
    "    matrix = []\n",
    "\n",
    "    print(\" enter the elements in matrix \")\n",
    "    for i in range(rows):\n",
    "        row = [int(x) for x in input().split()]\n",
    "        matrix.append(row)\n",
    "\n",
    "    return matrix\n",
    "\n",
    "def print_matrix(matrix, label):\n",
    "    print(f\"{label} Matrix:\")\n",
    "    for row in matrix:\n",
    "        print(row)\n",
    "\n",
    "#ask user for matrix input\n",
    "matrix = get_matrix_input()\n",
    "\n",
    "#display the transpose matrix after calculation \n",
    "transpose_result = transpose_matrix(matrix)\n",
    "\n",
    "print_matrix(matrix, \" Original \")\n",
    "print_matrix(transpose_result, \" Transposed \")\n"
   ]
  }
 ],
 "metadata": {
  "kernelspec": {
   "display_name": "Python 3",
   "language": "python",
   "name": "python3"
  },
  "language_info": {
   "codemirror_mode": {
    "name": "ipython",
    "version": 3
   },
   "file_extension": ".py",
   "mimetype": "text/x-python",
   "name": "python",
   "nbconvert_exporter": "python",
   "pygments_lexer": "ipython3",
   "version": "3.12.1"
  }
 },
 "nbformat": 4,
 "nbformat_minor": 2
}
