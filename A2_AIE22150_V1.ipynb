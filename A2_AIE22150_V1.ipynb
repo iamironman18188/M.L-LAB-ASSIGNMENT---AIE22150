{
 "cells": [
  {
   "cell_type": "markdown",
   "metadata": {},
   "source": [
    "QUESTION-1"
   ]
  },
  {
   "cell_type": "code",
   "execution_count": 6,
   "metadata": {},
   "outputs": [
    {
     "name": "stdout",
     "output_type": "stream",
     "text": [
      "Euclidean distance: 40.718546143004666\n",
      "Manhattan distance: 54\n"
     ]
    }
   ],
   "source": [
    "import numpy as np\n",
    "\n",
    "def euclidean_distance(point_1, point_2):\n",
    "    return np.linalg.norm(np.array(point_1) - np.array(point_2))\n",
    "\n",
    "def manhattan_distance(point_1, point_2):\n",
    "    return sum(abs(x1 - x2) for x1, x2 in zip(point_1, point_2))\n",
    "\n",
    "# Test the functions\n",
    "point1 = (23, 45)\n",
    "point2 = (6, 8)\n",
    "\n",
    "print(\"Euclidean distance:\", euclidean_distance(point1, point2))\n",
    "print(\"Manhattan distance:\", manhattan_distance(point1, point2))"
   ]
  },
  {
   "cell_type": "markdown",
   "metadata": {},
   "source": [
    "QUESTION-2"
   ]
  },
  {
   "cell_type": "code",
   "execution_count": 5,
   "metadata": {},
   "outputs": [
    {
     "name": "stdout",
     "output_type": "stream",
     "text": [
      "Belongs to class 2\n"
     ]
    }
   ],
   "source": [
    "import numpy as np\n",
    "\n",
    "def euclidean_distance(point1, point2):\n",
    "    return np.linalg.norm(np.array(point1) - np.array(point2))\n",
    "\n",
    "def k_nn(k, coordinates, metric='euclidean'):\n",
    "    if metric != 'euclidean':\n",
    "        raise ValueError(\"Only Euclidean distance is supported.\")\n",
    "\n",
    "    distances = []\n",
    "    for i in range(len(coordinates)):\n",
    "        dist = euclidean_distance(coordinates[0], coordinates[i])\n",
    "        distances.append((dist, coordinates[i][2]))   # Assuming the third element of each coordinate tuple is the label\n",
    "    distances.sort()\n",
    "    k_nearest = distances[:k]\n",
    "    frequency_1 = sum(1 for _, label in k_nearest if label == 1)\n",
    "    frequency_2 = k - frequency_1\n",
    "    if frequency_1 > frequency_2:\n",
    "        return \"Belongs to class 1\"\n",
    "    else:\n",
    "        return \"Belongs to class 2\"\n",
    "\n",
    "# Test the function\n",
    "coordinates = [\n",
    "    (10, 2, 91),\n",
    "    (20, 31, 2),\n",
    "    (32, 42, 10),\n",
    "    (4, 35, 41),\n",
    "    (5, 76, 62)\n",
    "]\n",
    "k = 3\n",
    "print(k_nn(k, coordinates))"
   ]
  },
  {
   "cell_type": "markdown",
   "metadata": {},
   "source": [
    "QUESTION-3"
   ]
  },
  {
   "cell_type": "code",
   "execution_count": 3,
   "metadata": {},
   "outputs": [
    {
     "name": "stdout",
     "output_type": "stream",
     "text": [
      "Encoded labels: [0, 1, 2, 3, 4]\n",
      "Label to code mapping: {'a': 0, 'e': 1, 'i': 2, 'o': 3, 'u': 4}\n"
     ]
    }
   ],
   "source": [
    "def label_encode(labels):\n",
    "    \n",
    "    label_to_code = {}\n",
    "    code = 0\n",
    "    for label in labels:\n",
    "        if label not in label_to_code:\n",
    "            label_to_code[label] = code\n",
    "            code += 1\n",
    "    # Encode the labels\n",
    "    encoded_labels = [label_to_code[label] for label in labels]\n",
    "    return encoded_labels, label_to_code\n",
    "\n",
    "# Test the function\n",
    "labels = ['a', 'e', 'i', 'o', 'u']\n",
    "encoded_labels, label_to_code = label_encode(labels)\n",
    "print(\"Encoded labels:\", encoded_labels)\n",
    "print(\"Label to code mapping:\", label_to_code)"
   ]
  },
  {
   "cell_type": "markdown",
   "metadata": {},
   "source": [
    "QUESTION-4"
   ]
  },
  {
   "cell_type": "code",
   "execution_count": 7,
   "metadata": {},
   "outputs": [
    {
     "name": "stdout",
     "output_type": "stream",
     "text": [
      "Encoded Labels and Label to One-Hot Mapping: [[1, 0, 0], [0, 1, 0], [0, 0, 1], [0, 1, 0], [1, 0, 0]] {'cat': [1, 0, 0], 'dog': [0, 1, 0], 'mouse': [0, 0, 1]}\n",
      "Classification result: Belongs to class 1\n"
     ]
    }
   ],
   "source": [
    "import numpy as np\n",
    "\n",
    "def one_hot_encode(labels):\n",
    "    unique_labels = sorted(set(labels))\n",
    "    # Dictionary to create one-hot encoding using the unique labels\n",
    "    label_to_one_hot = {label: [0] * len(unique_labels) for label in unique_labels}\n",
    "    # Giving them position\n",
    "    for i, label in enumerate(unique_labels):\n",
    "        label_to_one_hot[label][i] = 1\n",
    "    # Encodes labels\n",
    "    encoded_labels = [label_to_one_hot[label] for label in labels]\n",
    "    return encoded_labels, label_to_one_hot\n",
    "\n",
    "def euclidean_distance(point_1, point_2):\n",
    "    return np.linalg.norm(np.array(point_1) - np.array(point_2))\n",
    "\n",
    "def k_nn(k, coordinates):\n",
    "    distances = []\n",
    "    for i in range(1, len(coordinates)):\n",
    "        dist = euclidean_distance(coordinates[0][:2], coordinates[i][:2])\n",
    "        distances.append((dist, coordinates[i][2]))  \n",
    "    distances.sort()\n",
    "    k_nearest = distances[:k]\n",
    "    frequency_1 = sum(1 for _, label in k_nearest if label == 1)\n",
    "    frequency_2 = k - frequency_1 \n",
    "    if frequency_1 > frequency_2:\n",
    "        return \"Belongs to class 1\"\n",
    "    else:\n",
    "        return \"Belongs to class 2\"\n",
    "\n",
    "# Test the functions\n",
    "labels = ['cat', 'dog', 'mouse', 'dog', 'cat']\n",
    "encoded_labels, label_to_one_hot = one_hot_encode(labels)\n",
    "print(\"Encoded Labels and Label to One-Hot Mapping:\", encoded_labels, label_to_one_hot)\n",
    "\n",
    "coordinates = [(1.0, 2.0, 1),(2.0, 3.0, 1),(3.0, 4.0, 1),(5.0, 6.0, 2),(6.0, 7.0, 2),(7.0, 8.0, 2)]\n",
    "k = 3 \n",
    "result = k_nn(k, coordinates)\n",
    "print(\"Classification result:\", result)"
   ]
  },
  {
   "cell_type": "code",
   "execution_count": null,
   "metadata": {},
   "outputs": [],
   "source": []
  }
 ],
 "metadata": {
  "kernelspec": {
   "display_name": "Python 3",
   "language": "python",
   "name": "python3"
  },
  "language_info": {
   "codemirror_mode": {
    "name": "ipython",
    "version": 3
   },
   "file_extension": ".py",
   "mimetype": "text/x-python",
   "name": "python",
   "nbconvert_exporter": "python",
   "pygments_lexer": "ipython3",
   "version": "3.12.1"
  }
 },
 "nbformat": 4,
 "nbformat_minor": 2
}
